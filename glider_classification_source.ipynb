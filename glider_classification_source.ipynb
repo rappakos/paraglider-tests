{
 "cells": [
  {
   "cell_type": "code",
   "execution_count": 3,
   "id": "1d35c67a",
   "metadata": {},
   "outputs": [
    {
     "name": "stdout",
     "output_type": "stream",
     "text": [
      "[('air_turquoise_reports',), ('sqlite_sequence',), ('air_turquoise_evaluation',), ('air_turquoise_parameters',), ('dhv_reports',), ('dhv_evaluation',), ('dhv_parameters',), ('test_mapping',)]\n"
     ]
    }
   ],
   "source": [
    "import requests\n",
    "from bs4 import BeautifulSoup\n",
    "import sqlite3\n",
    "import pandas as pd\n",
    "\n",
    "database_file = \"glider_tests.db\"\n",
    "download_folder = \"data/pdf\"\n",
    "\n",
    "air_turquoise_page_size=25\n",
    "air_turquise_base_url = 'https://para-test.com'\n",
    "#air_turquoise_links = '{air_turquise_base_url}/component/jak2filter/?Itemid=114&issearch=1&isc=1&category_id=11&xf_3_txt=B&ordering=publishUp&orders[publishUp]=rpublishUp&orders[date]=date&start={index}'\n",
    "# C : https://para-test.com/component/jak2filter/?Itemid=114&issearch=1&isc=1&category_id=11&xf_3_txt={class}&ordering=publishUp&orders[publishUp]=rpublishUp&orders[date]=date&start=0\n",
    "\n",
    "# set up DB (once)\n",
    "conn = sqlite3.connect(database_file)\n",
    "cur = conn.cursor()\n",
    "#cur.execute('''CREATE TABLE IF NOT EXISTS air_turquoise_reports\n",
    "#               (report_date, item_name, report_link, download_link)''')\n",
    "#conn.commit()\n",
    "cur.execute(\"SELECT name FROM sqlite_master WHERE type='table';\")\n",
    "print(cur.fetchall())\n",
    "conn.close()    \n",
    "    "
   ]
  },
  {
   "cell_type": "code",
   "execution_count": 37,
   "id": "b01d5442",
   "metadata": {},
   "outputs": [],
   "source": [
    "# add to DB  \n",
    "conn = sqlite3.connect(database_file)\n",
    "cur = conn.cursor()\n",
    "#cur.execute(\"delete from air_turquoise_reports\")\n",
    "#cur.executemany(\"insert into air_turquoise_reports values (?, ?, ?, null)\", data)\n",
    "    \n",
    "conn.commit()\n",
    "conn.close() "
   ]
  },
  {
   "cell_type": "code",
   "execution_count": 4,
   "id": "982ea0bb",
   "metadata": {},
   "outputs": [
    {
     "data": {
      "text/html": [
       "<div>\n",
       "<style scoped>\n",
       "    .dataframe tbody tr th:only-of-type {\n",
       "        vertical-align: middle;\n",
       "    }\n",
       "\n",
       "    .dataframe tbody tr th {\n",
       "        vertical-align: top;\n",
       "    }\n",
       "\n",
       "    .dataframe thead th {\n",
       "        text-align: right;\n",
       "    }\n",
       "</style>\n",
       "<table border=\"1\" class=\"dataframe\">\n",
       "  <thead>\n",
       "    <tr style=\"text-align: right;\">\n",
       "      <th></th>\n",
       "      <th>report_date</th>\n",
       "      <th>item_name</th>\n",
       "      <th>report_link</th>\n",
       "      <th>download_link</th>\n",
       "      <th>report_class</th>\n",
       "    </tr>\n",
       "  </thead>\n",
       "  <tbody>\n",
       "    <tr>\n",
       "      <th>0</th>\n",
       "      <td>2021-05-06</td>\n",
       "      <td>Swing Flugsportgeräte Sting RS 24</td>\n",
       "      <td>/reports/item/4655-swing-flugsportgeraete-stin...</td>\n",
       "      <td>None</td>\n",
       "      <td>B</td>\n",
       "    </tr>\n",
       "    <tr>\n",
       "      <th>1</th>\n",
       "      <td>2021-05-06</td>\n",
       "      <td>Swing Flugsportgeräte Sting RS 26</td>\n",
       "      <td>/reports/item/4656-swing-flugsportgeraete-stin...</td>\n",
       "      <td>None</td>\n",
       "      <td>B</td>\n",
       "    </tr>\n",
       "    <tr>\n",
       "      <th>2</th>\n",
       "      <td>2021-05-06</td>\n",
       "      <td>Swing Flugsportgeräte Sting RS 28</td>\n",
       "      <td>/reports/item/4657-swing-flugsportgeraete-stin...</td>\n",
       "      <td>None</td>\n",
       "      <td>B</td>\n",
       "    </tr>\n",
       "    <tr>\n",
       "      <th>3</th>\n",
       "      <td>2021-05-06</td>\n",
       "      <td>Swing Flugsportgeräte Sting RS 31</td>\n",
       "      <td>/reports/item/4658-swing-flugsportgeraete-stin...</td>\n",
       "      <td>None</td>\n",
       "      <td>B</td>\n",
       "    </tr>\n",
       "    <tr>\n",
       "      <th>4</th>\n",
       "      <td>2021-05-06</td>\n",
       "      <td>Swing Flugsportgeräte Sting RS 34</td>\n",
       "      <td>/reports/item/4659-swing-flugsportgerate-sting...</td>\n",
       "      <td>None</td>\n",
       "      <td>A</td>\n",
       "    </tr>\n",
       "  </tbody>\n",
       "</table>\n",
       "</div>"
      ],
      "text/plain": [
       "  report_date                          item_name  \\\n",
       "0  2021-05-06  Swing Flugsportgeräte Sting RS 24   \n",
       "1  2021-05-06  Swing Flugsportgeräte Sting RS 26   \n",
       "2  2021-05-06  Swing Flugsportgeräte Sting RS 28   \n",
       "3  2021-05-06  Swing Flugsportgeräte Sting RS 31   \n",
       "4  2021-05-06  Swing Flugsportgeräte Sting RS 34   \n",
       "\n",
       "                                         report_link download_link  \\\n",
       "0  /reports/item/4655-swing-flugsportgeraete-stin...          None   \n",
       "1  /reports/item/4656-swing-flugsportgeraete-stin...          None   \n",
       "2  /reports/item/4657-swing-flugsportgeraete-stin...          None   \n",
       "3  /reports/item/4658-swing-flugsportgeraete-stin...          None   \n",
       "4  /reports/item/4659-swing-flugsportgerate-sting...          None   \n",
       "\n",
       "  report_class  \n",
       "0            B  \n",
       "1            B  \n",
       "2            B  \n",
       "3            B  \n",
       "4            A  "
      ]
     },
     "execution_count": 4,
     "metadata": {},
     "output_type": "execute_result"
    }
   ],
   "source": [
    "with sqlite3.connect(database_file) as conn:\n",
    "    df = pd.read_sql_query(\"\"\"select * from air_turquoise_reports where download_link is null order by report_link\"\"\",conn)\n",
    "\n",
    "df.head(20)"
   ]
  },
  {
   "cell_type": "code",
   "execution_count": 7,
   "id": "ce3ae110",
   "metadata": {},
   "outputs": [
    {
     "ename": "SyntaxError",
     "evalue": "f-string: unmatched '(' (1827957894.py, line 8)",
     "output_type": "error",
     "traceback": [
      "\u001b[1;36m  Cell \u001b[1;32mIn[7], line 8\u001b[1;36m\u001b[0m\n\u001b[1;33m    fname = f\"{download_folder}/{'_'.join(report.item_name.replace(\"/\",\"\").split())}.pdf\"\u001b[0m\n\u001b[1;37m                                                                    ^\u001b[0m\n\u001b[1;31mSyntaxError\u001b[0m\u001b[1;31m:\u001b[0m f-string: unmatched '('\n"
     ]
    }
   ],
   "source": [
    "from os.path import exists\n",
    "\n",
    "# download all pdf\n",
    "with sqlite3.connect(database_file) as conn:\n",
    "    df = pd.read_sql_query(\"\"\"select * from air_turquoise_reports where download_link is not null order by report_link\"\"\",conn)\n",
    "    \n",
    "for report in df.itertuples():\n",
    "    fname = f\"{download_folder}/{'_'.join(report.item_name.replace('/','').split())}.pdf\"\n",
    "    url = f\"{air_turquise_base_url}/{report.download_link}\" if report.download_link.startswith('storage') else f\"{air_turquise_base_url}{report.download_link}\" \n",
    "    if not exists(fname):\n",
    "        print(fname,url)\n",
    "        #r = requests.get(url, allow_redirects=True)\n",
    "        #open(fname, 'wb').write(r.content) \n",
    "\n",
    "\n"
   ]
  },
  {
   "cell_type": "code",
   "execution_count": null,
   "id": "23aa8326",
   "metadata": {},
   "outputs": [],
   "source": []
  }
 ],
 "metadata": {
  "kernelspec": {
   "display_name": "Python 3 (ipykernel)",
   "language": "python",
   "name": "python3"
  },
  "language_info": {
   "codemirror_mode": {
    "name": "ipython",
    "version": 3
   },
   "file_extension": ".py",
   "mimetype": "text/x-python",
   "name": "python",
   "nbconvert_exporter": "python",
   "pygments_lexer": "ipython3",
   "version": "3.11.8"
  }
 },
 "nbformat": 4,
 "nbformat_minor": 5
}
